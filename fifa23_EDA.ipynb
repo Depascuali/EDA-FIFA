{
 "cells": [
  {
   "cell_type": "code",
   "execution_count": 2,
   "metadata": {},
   "outputs": [
    {
     "data": {
      "text/plain": [
       "'/Users/tomasdepascuali/Documents/GitHub/FIFA-13-EDA---Constenla---Depascuali'"
      ]
     },
     "execution_count": 2,
     "metadata": {},
     "output_type": "execute_result"
    }
   ],
   "source": [
    "import os\n",
    "dirname = os.path.dirname(os.getcwd())\n",
    "path = os.path.join(dirname, 'FIFA-13-EDA---Constenla---Depascuali/media/fifa_23_280922.csv')\n",
    "os.getcwd()"
   ]
  },
  {
   "cell_type": "code",
   "execution_count": 3,
   "metadata": {},
   "outputs": [
    {
     "data": {
      "text/plain": [
       "<bound method NDFrame.describe of                   Nom  Général  Potentiel  Performance                 Pays  \\\n",
       "0           K. Mbappé       91         95         93.0               France   \n",
       "1      R. Lewandowski       91         91         91.0               Poland   \n",
       "2          K. Benzema       91         91         91.0               France   \n",
       "3            L. Messi       91         91         91.0            Argentina   \n",
       "4        K. De Bruyne       91         91         91.0              Belgium   \n",
       "...               ...      ...        ...          ...                  ...   \n",
       "18441       Huo Liang       49         49         49.0             China PR   \n",
       "18442      Zhou Zheng       46         51         48.5             China PR   \n",
       "18443        N. Rabha       47         50         48.5                India   \n",
       "18444        Ning Hao       48         48         48.0             China PR   \n",
       "18445        D. Duffy       35         49         42.0  Republic of Ireland   \n",
       "\n",
       "                                    Club Bon pied  Mauvais pied  \\\n",
       "0                    Paris Saint-Germain    Right             4   \n",
       "1                           FC Barcelona    Right             4   \n",
       "2                         Real Madrid CF    Right             4   \n",
       "3                    Paris Saint-Germain     Left             4   \n",
       "4                        Manchester City    Right             5   \n",
       "...                                  ...      ...           ...   \n",
       "18441                      Meizhou Hakka    Right             3   \n",
       "18442            Tianjin Jinmen Tiger FC    Right             3   \n",
       "18443                NorthEast United FC     Left             3   \n",
       "18444  Dalian Professional Football Club    Right             3   \n",
       "18445                         Finn Harps     Left             2   \n",
       "\n",
       "       Gestes techniques  Taille  ... Penalty Calme Conscience defensive  \\\n",
       "0                      5     182  ...      80    88                   26   \n",
       "1                      4     185  ...      90    88                   35   \n",
       "2                      4     185  ...      84    90                   43   \n",
       "3                      4     169  ...      75    96                   20   \n",
       "4                      4     181  ...      83    89                   68   \n",
       "...                  ...     ...  ...     ...   ...                  ...   \n",
       "18441                  2     179  ...      33    38                   51   \n",
       "18442                  2     182  ...      41    44                   38   \n",
       "18443                  2     176  ...      35    32                   47   \n",
       "18444                  2     175  ...      49    58                   34   \n",
       "18445                  2     169  ...      34    36                   41   \n",
       "\n",
       "      Tacle debout  Tacle glisse  Plongeon  Jeu main  Jeu pied  Placement.1  \\\n",
       "0               34            32        13         5         7           11   \n",
       "1               42            19        15         6        12            8   \n",
       "2               24            18        13        11         5            5   \n",
       "3               35            24         6        11        15           14   \n",
       "4               65            53        15        13         5           10   \n",
       "...            ...           ...       ...       ...       ...          ...   \n",
       "18441           53            51         7        10         8           14   \n",
       "18442           35            44         7         8         7           12   \n",
       "18443           44            43        13        13         6           14   \n",
       "18444           40            40         9        14        15           12   \n",
       "18445           47            48        11         9        10            6   \n",
       "\n",
       "       Reflexes  \n",
       "0             6  \n",
       "1            10  \n",
       "2             7  \n",
       "3             8  \n",
       "4            13  \n",
       "...         ...  \n",
       "18441         7  \n",
       "18442        15  \n",
       "18443        14  \n",
       "18444        13  \n",
       "18445        11  \n",
       "\n",
       "[18446 rows x 49 columns]>"
      ]
     },
     "execution_count": 3,
     "metadata": {},
     "output_type": "execute_result"
    }
   ],
   "source": [
    "import pandas as pd\n",
    "import seaborn as sns\n",
    "import matplotlib.pyplot as plt\n",
    "import numpy as np \n",
    "\n",
    "df = pd.read_csv(path)\n",
    "df.describe"
   ]
  }
 ],
 "metadata": {
  "kernelspec": {
   "display_name": "Python 3.10.7 64-bit",
   "language": "python",
   "name": "python3"
  },
  "language_info": {
   "codemirror_mode": {
    "name": "ipython",
    "version": 3
   },
   "file_extension": ".py",
   "mimetype": "text/x-python",
   "name": "python",
   "nbconvert_exporter": "python",
   "pygments_lexer": "ipython3",
   "version": "3.10.7"
  },
  "orig_nbformat": 4,
  "vscode": {
   "interpreter": {
    "hash": "aee8b7b246df8f9039afb4144a1f6fd8d2ca17a180786b69acc140d282b71a49"
   }
  }
 },
 "nbformat": 4,
 "nbformat_minor": 2
}
